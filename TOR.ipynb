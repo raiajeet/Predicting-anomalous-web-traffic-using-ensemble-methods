{
 "cells": [
  {
   "cell_type": "markdown",
   "metadata": {},
   "source": [
    "# TOR and Non-TOR"
   ]
  },
  {
   "cell_type": "markdown",
   "metadata": {},
   "source": [
    "## All datasets are highly imbalanced\n",
    "## For now only SelectedFeatures-10s-TOR-NonTOR dataset has been used."
   ]
  },
  {
   "cell_type": "markdown",
   "metadata": {},
   "source": [
    "#### Libraries"
   ]
  },
  {
   "cell_type": "code",
   "execution_count": 1,
   "metadata": {},
   "outputs": [],
   "source": [
    "import numpy as np\n",
    "import matplotlib.pyplot as plt\n",
    "import pandas as pd\n",
    "from sklearn.preprocessing import LabelEncoder,OneHotEncoder\n",
    "import random\n",
    "from sklearn.ensemble import RandomForestClassifier\n",
    "from sklearn.ensemble import GradientBoostingClassifier\n",
    "from sklearn.metrics import f1_score, precision_score, recall_score,roc_auc_score"
   ]
  },
  {
   "cell_type": "markdown",
   "metadata": {},
   "source": [
    "#### Importing Dataset"
   ]
  },
  {
   "cell_type": "code",
   "execution_count": 2,
   "metadata": {},
   "outputs": [
    {
     "name": "stderr",
     "output_type": "stream",
     "text": [
      "C:\\Users\\AJIT\\Anaconda3\\lib\\site-packages\\IPython\\core\\interactiveshell.py:2785: DtypeWarning: Columns (6,7) have mixed types. Specify dtype option on import or set low_memory=False.\n",
      "  interactivity=interactivity, compiler=compiler, result=result)\n"
     ]
    }
   ],
   "source": [
    "data= pd.read_csv('C:\\\\Users\\\\AJIT\\\\Desktop\\\\Data science\\\\RP\\\\TOR\\\\Scenario-A\\\\SelectedFeatures-10s-TOR-NonTOR.csv')"
   ]
  },
  {
   "cell_type": "code",
   "execution_count": 3,
   "metadata": {},
   "outputs": [
    {
     "data": {
      "text/html": [
       "<div>\n",
       "<style scoped>\n",
       "    .dataframe tbody tr th:only-of-type {\n",
       "        vertical-align: middle;\n",
       "    }\n",
       "\n",
       "    .dataframe tbody tr th {\n",
       "        vertical-align: top;\n",
       "    }\n",
       "\n",
       "    .dataframe thead th {\n",
       "        text-align: right;\n",
       "    }\n",
       "</style>\n",
       "<table border=\"1\" class=\"dataframe\">\n",
       "  <thead>\n",
       "    <tr style=\"text-align: right;\">\n",
       "      <th></th>\n",
       "      <th>Source IP</th>\n",
       "      <th>Source Port</th>\n",
       "      <th>Destination IP</th>\n",
       "      <th>Destination Port</th>\n",
       "      <th>Protocol</th>\n",
       "      <th>Flow Duration</th>\n",
       "      <th>Flow Bytes/s</th>\n",
       "      <th>Flow Packets/s</th>\n",
       "      <th>Flow IAT Mean</th>\n",
       "      <th>Flow IAT Std</th>\n",
       "      <th>...</th>\n",
       "      <th>Bwd IAT Min</th>\n",
       "      <th>Active Mean</th>\n",
       "      <th>Active Std</th>\n",
       "      <th>Active Max</th>\n",
       "      <th>Active Min</th>\n",
       "      <th>Idle Mean</th>\n",
       "      <th>Idle Std</th>\n",
       "      <th>Idle Max</th>\n",
       "      <th>Idle Min</th>\n",
       "      <th>label</th>\n",
       "    </tr>\n",
       "  </thead>\n",
       "  <tbody>\n",
       "    <tr>\n",
       "      <th>0</th>\n",
       "      <td>10.0.2.15</td>\n",
       "      <td>53913</td>\n",
       "      <td>216.58.208.46</td>\n",
       "      <td>80</td>\n",
       "      <td>6</td>\n",
       "      <td>435</td>\n",
       "      <td>0</td>\n",
       "      <td>4597.7</td>\n",
       "      <td>435.0</td>\n",
       "      <td>0.0</td>\n",
       "      <td>...</td>\n",
       "      <td>0</td>\n",
       "      <td>0</td>\n",
       "      <td>0</td>\n",
       "      <td>0</td>\n",
       "      <td>0</td>\n",
       "      <td>0</td>\n",
       "      <td>0</td>\n",
       "      <td>0</td>\n",
       "      <td>0</td>\n",
       "      <td>nonTOR</td>\n",
       "    </tr>\n",
       "    <tr>\n",
       "      <th>1</th>\n",
       "      <td>10.0.2.15</td>\n",
       "      <td>53913</td>\n",
       "      <td>216.58.208.46</td>\n",
       "      <td>80</td>\n",
       "      <td>6</td>\n",
       "      <td>259</td>\n",
       "      <td>0</td>\n",
       "      <td>7722.01</td>\n",
       "      <td>259.0</td>\n",
       "      <td>0.0</td>\n",
       "      <td>...</td>\n",
       "      <td>0</td>\n",
       "      <td>0</td>\n",
       "      <td>0</td>\n",
       "      <td>0</td>\n",
       "      <td>0</td>\n",
       "      <td>0</td>\n",
       "      <td>0</td>\n",
       "      <td>0</td>\n",
       "      <td>0</td>\n",
       "      <td>nonTOR</td>\n",
       "    </tr>\n",
       "    <tr>\n",
       "      <th>2</th>\n",
       "      <td>10.0.2.15</td>\n",
       "      <td>53913</td>\n",
       "      <td>216.58.208.46</td>\n",
       "      <td>80</td>\n",
       "      <td>6</td>\n",
       "      <td>891</td>\n",
       "      <td>0</td>\n",
       "      <td>2244.67</td>\n",
       "      <td>891.0</td>\n",
       "      <td>0.0</td>\n",
       "      <td>...</td>\n",
       "      <td>0</td>\n",
       "      <td>0</td>\n",
       "      <td>0</td>\n",
       "      <td>0</td>\n",
       "      <td>0</td>\n",
       "      <td>0</td>\n",
       "      <td>0</td>\n",
       "      <td>0</td>\n",
       "      <td>0</td>\n",
       "      <td>nonTOR</td>\n",
       "    </tr>\n",
       "    <tr>\n",
       "      <th>3</th>\n",
       "      <td>10.0.2.15</td>\n",
       "      <td>53913</td>\n",
       "      <td>216.58.208.46</td>\n",
       "      <td>80</td>\n",
       "      <td>6</td>\n",
       "      <td>1074</td>\n",
       "      <td>0</td>\n",
       "      <td>1862.2</td>\n",
       "      <td>1074.0</td>\n",
       "      <td>0.0</td>\n",
       "      <td>...</td>\n",
       "      <td>0</td>\n",
       "      <td>0</td>\n",
       "      <td>0</td>\n",
       "      <td>0</td>\n",
       "      <td>0</td>\n",
       "      <td>0</td>\n",
       "      <td>0</td>\n",
       "      <td>0</td>\n",
       "      <td>0</td>\n",
       "      <td>nonTOR</td>\n",
       "    </tr>\n",
       "    <tr>\n",
       "      <th>4</th>\n",
       "      <td>10.0.2.15</td>\n",
       "      <td>53913</td>\n",
       "      <td>216.58.208.46</td>\n",
       "      <td>80</td>\n",
       "      <td>6</td>\n",
       "      <td>315</td>\n",
       "      <td>0</td>\n",
       "      <td>6349.21</td>\n",
       "      <td>315.0</td>\n",
       "      <td>0.0</td>\n",
       "      <td>...</td>\n",
       "      <td>0</td>\n",
       "      <td>0</td>\n",
       "      <td>0</td>\n",
       "      <td>0</td>\n",
       "      <td>0</td>\n",
       "      <td>0</td>\n",
       "      <td>0</td>\n",
       "      <td>0</td>\n",
       "      <td>0</td>\n",
       "      <td>nonTOR</td>\n",
       "    </tr>\n",
       "  </tbody>\n",
       "</table>\n",
       "<p>5 rows × 29 columns</p>\n",
       "</div>"
      ],
      "text/plain": [
       "   Source IP   Source Port  Destination IP   Destination Port   Protocol  \\\n",
       "0  10.0.2.15         53913   216.58.208.46                 80          6   \n",
       "1  10.0.2.15         53913   216.58.208.46                 80          6   \n",
       "2  10.0.2.15         53913   216.58.208.46                 80          6   \n",
       "3  10.0.2.15         53913   216.58.208.46                 80          6   \n",
       "4  10.0.2.15         53913   216.58.208.46                 80          6   \n",
       "\n",
       "    Flow Duration  Flow Bytes/s  Flow Packets/s   Flow IAT Mean  \\\n",
       "0             435             0          4597.7           435.0   \n",
       "1             259             0         7722.01           259.0   \n",
       "2             891             0         2244.67           891.0   \n",
       "3            1074             0          1862.2          1074.0   \n",
       "4             315             0         6349.21           315.0   \n",
       "\n",
       "    Flow IAT Std  ...   Bwd IAT Min  Active Mean   Active Std   Active Max  \\\n",
       "0            0.0  ...             0            0            0            0   \n",
       "1            0.0  ...             0            0            0            0   \n",
       "2            0.0  ...             0            0            0            0   \n",
       "3            0.0  ...             0            0            0            0   \n",
       "4            0.0  ...             0            0            0            0   \n",
       "\n",
       "    Active Min  Idle Mean   Idle Std   Idle Max   Idle Min   label  \n",
       "0            0          0          0          0          0  nonTOR  \n",
       "1            0          0          0          0          0  nonTOR  \n",
       "2            0          0          0          0          0  nonTOR  \n",
       "3            0          0          0          0          0  nonTOR  \n",
       "4            0          0          0          0          0  nonTOR  \n",
       "\n",
       "[5 rows x 29 columns]"
      ]
     },
     "execution_count": 3,
     "metadata": {},
     "output_type": "execute_result"
    }
   ],
   "source": [
    "data.head()"
   ]
  },
  {
   "cell_type": "code",
   "execution_count": 4,
   "metadata": {},
   "outputs": [
    {
     "data": {
      "text/plain": [
       "(67834, 29)"
      ]
     },
     "execution_count": 4,
     "metadata": {},
     "output_type": "execute_result"
    }
   ],
   "source": [
    "data.shape"
   ]
  },
  {
   "cell_type": "markdown",
   "metadata": {},
   "source": [
    "#### Label Encoding for response variable"
   ]
  },
  {
   "cell_type": "code",
   "execution_count": 3,
   "metadata": {},
   "outputs": [],
   "source": [
    "data['label'] = data['label'].map({'nonTOR': 1, 'TOR': 0})"
   ]
  },
  {
   "cell_type": "markdown",
   "metadata": {},
   "source": [
    "#### Categorical Columns"
   ]
  },
  {
   "cell_type": "code",
   "execution_count": 4,
   "metadata": {},
   "outputs": [
    {
     "data": {
      "text/plain": [
       "['Source IP', ' Destination IP', ' Flow Bytes/s', ' Flow Packets/s']"
      ]
     },
     "execution_count": 4,
     "metadata": {},
     "output_type": "execute_result"
    }
   ],
   "source": [
    "cat_col = [c for i, c in enumerate(data.columns) if data.dtypes[i] in [np.object]]\n",
    "cat_col "
   ]
  },
  {
   "cell_type": "markdown",
   "metadata": {},
   "source": [
    "#### 4 features has been excluded."
   ]
  },
  {
   "cell_type": "code",
   "execution_count": 5,
   "metadata": {},
   "outputs": [],
   "source": [
    "cols = [0,2,6,7]\n",
    "data.drop(data.columns[cols],axis=1,inplace=True)"
   ]
  },
  {
   "cell_type": "code",
   "execution_count": 6,
   "metadata": {},
   "outputs": [
    {
     "data": {
      "text/html": [
       "<div>\n",
       "<style scoped>\n",
       "    .dataframe tbody tr th:only-of-type {\n",
       "        vertical-align: middle;\n",
       "    }\n",
       "\n",
       "    .dataframe tbody tr th {\n",
       "        vertical-align: top;\n",
       "    }\n",
       "\n",
       "    .dataframe thead th {\n",
       "        text-align: right;\n",
       "    }\n",
       "</style>\n",
       "<table border=\"1\" class=\"dataframe\">\n",
       "  <thead>\n",
       "    <tr style=\"text-align: right;\">\n",
       "      <th></th>\n",
       "      <th>Source Port</th>\n",
       "      <th>Destination Port</th>\n",
       "      <th>Protocol</th>\n",
       "      <th>Flow Duration</th>\n",
       "      <th>Flow IAT Mean</th>\n",
       "      <th>Flow IAT Std</th>\n",
       "      <th>Flow IAT Max</th>\n",
       "      <th>Flow IAT Min</th>\n",
       "      <th>Fwd IAT Mean</th>\n",
       "      <th>Fwd IAT Std</th>\n",
       "      <th>...</th>\n",
       "      <th>Bwd IAT Min</th>\n",
       "      <th>Active Mean</th>\n",
       "      <th>Active Std</th>\n",
       "      <th>Active Max</th>\n",
       "      <th>Active Min</th>\n",
       "      <th>Idle Mean</th>\n",
       "      <th>Idle Std</th>\n",
       "      <th>Idle Max</th>\n",
       "      <th>Idle Min</th>\n",
       "      <th>label</th>\n",
       "    </tr>\n",
       "  </thead>\n",
       "  <tbody>\n",
       "    <tr>\n",
       "      <th>0</th>\n",
       "      <td>53913</td>\n",
       "      <td>80</td>\n",
       "      <td>6</td>\n",
       "      <td>435</td>\n",
       "      <td>435.0</td>\n",
       "      <td>0.0</td>\n",
       "      <td>435</td>\n",
       "      <td>435</td>\n",
       "      <td>0.0</td>\n",
       "      <td>0.0</td>\n",
       "      <td>...</td>\n",
       "      <td>0</td>\n",
       "      <td>0</td>\n",
       "      <td>0</td>\n",
       "      <td>0</td>\n",
       "      <td>0</td>\n",
       "      <td>0</td>\n",
       "      <td>0</td>\n",
       "      <td>0</td>\n",
       "      <td>0</td>\n",
       "      <td>1</td>\n",
       "    </tr>\n",
       "    <tr>\n",
       "      <th>1</th>\n",
       "      <td>53913</td>\n",
       "      <td>80</td>\n",
       "      <td>6</td>\n",
       "      <td>259</td>\n",
       "      <td>259.0</td>\n",
       "      <td>0.0</td>\n",
       "      <td>259</td>\n",
       "      <td>259</td>\n",
       "      <td>0.0</td>\n",
       "      <td>0.0</td>\n",
       "      <td>...</td>\n",
       "      <td>0</td>\n",
       "      <td>0</td>\n",
       "      <td>0</td>\n",
       "      <td>0</td>\n",
       "      <td>0</td>\n",
       "      <td>0</td>\n",
       "      <td>0</td>\n",
       "      <td>0</td>\n",
       "      <td>0</td>\n",
       "      <td>1</td>\n",
       "    </tr>\n",
       "    <tr>\n",
       "      <th>2</th>\n",
       "      <td>53913</td>\n",
       "      <td>80</td>\n",
       "      <td>6</td>\n",
       "      <td>891</td>\n",
       "      <td>891.0</td>\n",
       "      <td>0.0</td>\n",
       "      <td>891</td>\n",
       "      <td>891</td>\n",
       "      <td>0.0</td>\n",
       "      <td>0.0</td>\n",
       "      <td>...</td>\n",
       "      <td>0</td>\n",
       "      <td>0</td>\n",
       "      <td>0</td>\n",
       "      <td>0</td>\n",
       "      <td>0</td>\n",
       "      <td>0</td>\n",
       "      <td>0</td>\n",
       "      <td>0</td>\n",
       "      <td>0</td>\n",
       "      <td>1</td>\n",
       "    </tr>\n",
       "    <tr>\n",
       "      <th>3</th>\n",
       "      <td>53913</td>\n",
       "      <td>80</td>\n",
       "      <td>6</td>\n",
       "      <td>1074</td>\n",
       "      <td>1074.0</td>\n",
       "      <td>0.0</td>\n",
       "      <td>1074</td>\n",
       "      <td>1074</td>\n",
       "      <td>0.0</td>\n",
       "      <td>0.0</td>\n",
       "      <td>...</td>\n",
       "      <td>0</td>\n",
       "      <td>0</td>\n",
       "      <td>0</td>\n",
       "      <td>0</td>\n",
       "      <td>0</td>\n",
       "      <td>0</td>\n",
       "      <td>0</td>\n",
       "      <td>0</td>\n",
       "      <td>0</td>\n",
       "      <td>1</td>\n",
       "    </tr>\n",
       "    <tr>\n",
       "      <th>4</th>\n",
       "      <td>53913</td>\n",
       "      <td>80</td>\n",
       "      <td>6</td>\n",
       "      <td>315</td>\n",
       "      <td>315.0</td>\n",
       "      <td>0.0</td>\n",
       "      <td>315</td>\n",
       "      <td>315</td>\n",
       "      <td>0.0</td>\n",
       "      <td>0.0</td>\n",
       "      <td>...</td>\n",
       "      <td>0</td>\n",
       "      <td>0</td>\n",
       "      <td>0</td>\n",
       "      <td>0</td>\n",
       "      <td>0</td>\n",
       "      <td>0</td>\n",
       "      <td>0</td>\n",
       "      <td>0</td>\n",
       "      <td>0</td>\n",
       "      <td>1</td>\n",
       "    </tr>\n",
       "  </tbody>\n",
       "</table>\n",
       "<p>5 rows × 25 columns</p>\n",
       "</div>"
      ],
      "text/plain": [
       "    Source Port   Destination Port   Protocol   Flow Duration   Flow IAT Mean  \\\n",
       "0         53913                 80          6             435           435.0   \n",
       "1         53913                 80          6             259           259.0   \n",
       "2         53913                 80          6             891           891.0   \n",
       "3         53913                 80          6            1074          1074.0   \n",
       "4         53913                 80          6             315           315.0   \n",
       "\n",
       "    Flow IAT Std   Flow IAT Max   Flow IAT Min  Fwd IAT Mean   Fwd IAT Std  \\\n",
       "0            0.0            435            435           0.0           0.0   \n",
       "1            0.0            259            259           0.0           0.0   \n",
       "2            0.0            891            891           0.0           0.0   \n",
       "3            0.0           1074           1074           0.0           0.0   \n",
       "4            0.0            315            315           0.0           0.0   \n",
       "\n",
       "   ...   Bwd IAT Min  Active Mean   Active Std   Active Max   Active Min  \\\n",
       "0  ...             0            0            0            0            0   \n",
       "1  ...             0            0            0            0            0   \n",
       "2  ...             0            0            0            0            0   \n",
       "3  ...             0            0            0            0            0   \n",
       "4  ...             0            0            0            0            0   \n",
       "\n",
       "   Idle Mean   Idle Std   Idle Max   Idle Min  label  \n",
       "0          0          0          0          0      1  \n",
       "1          0          0          0          0      1  \n",
       "2          0          0          0          0      1  \n",
       "3          0          0          0          0      1  \n",
       "4          0          0          0          0      1  \n",
       "\n",
       "[5 rows x 25 columns]"
      ]
     },
     "execution_count": 6,
     "metadata": {},
     "output_type": "execute_result"
    }
   ],
   "source": [
    "data.head()"
   ]
  },
  {
   "cell_type": "markdown",
   "metadata": {},
   "source": [
    "#### Imbalanced data"
   ]
  },
  {
   "cell_type": "code",
   "execution_count": 13,
   "metadata": {},
   "outputs": [
    {
     "data": {
      "text/plain": [
       "1    59790\n",
       "0     8044\n",
       "Name: label, dtype: int64"
      ]
     },
     "execution_count": 13,
     "metadata": {},
     "output_type": "execute_result"
    }
   ],
   "source": [
    "data[\"label\"].value_counts()"
   ]
  },
  {
   "cell_type": "code",
   "execution_count": 6,
   "metadata": {},
   "outputs": [],
   "source": [
    "X = data.iloc[:, 1:24].values\n",
    "y = data.iloc[:, 24].values"
   ]
  },
  {
   "cell_type": "code",
   "execution_count": 7,
   "metadata": {},
   "outputs": [],
   "source": [
    "from sklearn.model_selection import train_test_split\n",
    "X_train, X_test, y_train, y_test = train_test_split(X, y, test_size = 0.2, random_state = 0)"
   ]
  },
  {
   "cell_type": "markdown",
   "metadata": {},
   "source": [
    "### Logistic Regression"
   ]
  },
  {
   "cell_type": "code",
   "execution_count": 17,
   "metadata": {},
   "outputs": [
    {
     "name": "stderr",
     "output_type": "stream",
     "text": [
      "C:\\Users\\AJIT\\Anaconda3\\lib\\site-packages\\sklearn\\linear_model\\logistic.py:433: FutureWarning: Default solver will be changed to 'lbfgs' in 0.22. Specify a solver to silence this warning.\n",
      "  FutureWarning)\n"
     ]
    },
    {
     "name": "stdout",
     "output_type": "stream",
     "text": [
      "AUC:0.6877557722717059\n",
      "Precision:0.925316973415133\n",
      "Recall:0.9454241537818637\n",
      "F1 Score:0.9352625051674246\n"
     ]
    }
   ],
   "source": [
    "# Baseline Model\n",
    "from sklearn.metrics import f1_score, precision_score, recall_score,roc_auc_score\n",
    "from sklearn.linear_model import LogisticRegression\n",
    "lg=LogisticRegression()\n",
    "lg.fit(X_train,y_train)\n",
    "probs = lg.predict_proba(X_test)\n",
    "probs = probs[:,1]\n",
    "print('AUC:{}'.format(roc_auc_score(y_test, probs.round())))\n",
    "print('Precision:{}'.format(precision_score(y_test, probs.round())))\n",
    "print('Recall:{}'.format(recall_score(y_test, probs.round())))\n",
    "print('F1 Score:{}'.format(f1_score(y_test, probs.round())))"
   ]
  },
  {
   "cell_type": "code",
   "execution_count": 18,
   "metadata": {},
   "outputs": [
    {
     "name": "stderr",
     "output_type": "stream",
     "text": [
      "C:\\Users\\AJIT\\Anaconda3\\lib\\site-packages\\sklearn\\linear_model\\logistic.py:433: FutureWarning: Default solver will be changed to 'lbfgs' in 0.22. Specify a solver to silence this warning.\n",
      "  FutureWarning)\n",
      "C:\\Users\\AJIT\\Anaconda3\\lib\\site-packages\\sklearn\\linear_model\\logistic.py:433: FutureWarning: Default solver will be changed to 'lbfgs' in 0.22. Specify a solver to silence this warning.\n",
      "  FutureWarning)\n",
      "C:\\Users\\AJIT\\Anaconda3\\lib\\site-packages\\sklearn\\linear_model\\logistic.py:433: FutureWarning: Default solver will be changed to 'lbfgs' in 0.22. Specify a solver to silence this warning.\n",
      "  FutureWarning)\n",
      "C:\\Users\\AJIT\\Anaconda3\\lib\\site-packages\\sklearn\\linear_model\\logistic.py:433: FutureWarning: Default solver will be changed to 'lbfgs' in 0.22. Specify a solver to silence this warning.\n",
      "  FutureWarning)\n",
      "C:\\Users\\AJIT\\Anaconda3\\lib\\site-packages\\sklearn\\linear_model\\logistic.py:433: FutureWarning: Default solver will be changed to 'lbfgs' in 0.22. Specify a solver to silence this warning.\n",
      "  FutureWarning)\n",
      "C:\\Users\\AJIT\\Anaconda3\\lib\\site-packages\\sklearn\\linear_model\\logistic.py:433: FutureWarning: Default solver will be changed to 'lbfgs' in 0.22. Specify a solver to silence this warning.\n",
      "  FutureWarning)\n",
      "C:\\Users\\AJIT\\Anaconda3\\lib\\site-packages\\sklearn\\svm\\base.py:931: ConvergenceWarning: Liblinear failed to converge, increase the number of iterations.\n",
      "  \"the number of iterations.\", ConvergenceWarning)\n",
      "C:\\Users\\AJIT\\Anaconda3\\lib\\site-packages\\sklearn\\linear_model\\logistic.py:433: FutureWarning: Default solver will be changed to 'lbfgs' in 0.22. Specify a solver to silence this warning.\n",
      "  FutureWarning)\n",
      "C:\\Users\\AJIT\\Anaconda3\\lib\\site-packages\\sklearn\\linear_model\\logistic.py:433: FutureWarning: Default solver will be changed to 'lbfgs' in 0.22. Specify a solver to silence this warning.\n",
      "  FutureWarning)\n"
     ]
    },
    {
     "name": "stdout",
     "output_type": "stream",
     "text": [
      "AUC:0.6877557722717059\n",
      "Precision:0.925316973415133\n",
      "Recall:0.9454241537818637\n",
      "F1 Score:0.9352625051674246\n"
     ]
    }
   ],
   "source": [
    "#GridSearch for tuning using 7 CV\n",
    "from sklearn.model_selection import GridSearchCV\n",
    "lg1=LogisticRegression()\n",
    "param_grid = {'C': [1.0]}\n",
    "lg_gscv = GridSearchCV(lg1, param_grid, cv=7)\n",
    "lg_gscv.fit(X_train, y_train)\n",
    "probs = lg_gscv.predict_proba(X_test)\n",
    "probs = probs[:,1]\n",
    "print('AUC:{}'.format(roc_auc_score(y_test, probs.round())))\n",
    "print('Precision:{}'.format(precision_score(y_test, probs.round())))\n",
    "print('Recall:{}'.format(recall_score(y_test, probs.round())))\n",
    "print('F1 Score:{}'.format(f1_score(y_test, probs.round())))"
   ]
  },
  {
   "cell_type": "markdown",
   "metadata": {},
   "source": [
    "### KNN"
   ]
  },
  {
   "cell_type": "code",
   "execution_count": 19,
   "metadata": {},
   "outputs": [
    {
     "name": "stdout",
     "output_type": "stream",
     "text": [
      "AUC:0.900392608904561\n",
      "Precision:0.976240100041684\n",
      "Recall:0.9786878395319683\n",
      "F1 Score:0.9774624373956594\n"
     ]
    }
   ],
   "source": [
    "#Baseline Model\n",
    "from sklearn.neighbors import KNeighborsClassifier\n",
    "knn = KNeighborsClassifier()\n",
    "knn.fit(X_train,y_train)\n",
    "probs = knn.predict_proba(X_test)\n",
    "probs = probs[:,1]\n",
    "print('AUC:{}'.format(roc_auc_score(y_test, probs.round())))\n",
    "print('Precision:{}'.format(precision_score(y_test, probs.round())))\n",
    "print('Recall:{}'.format(recall_score(y_test, probs.round())))\n",
    "print('F1 Score:{}'.format(f1_score(y_test, probs.round())))"
   ]
  },
  {
   "cell_type": "code",
   "execution_count": 20,
   "metadata": {},
   "outputs": [
    {
     "name": "stdout",
     "output_type": "stream",
     "text": [
      "AUC:0.900392608904561\n",
      "Precision:0.976240100041684\n",
      "Recall:0.9786878395319683\n",
      "F1 Score:0.9774624373956594\n"
     ]
    }
   ],
   "source": [
    "#GridSearch for tuning using 7 CV\n",
    "from sklearn.model_selection import GridSearchCV\n",
    "knn1 = KNeighborsClassifier()\n",
    "param_grid = {'n_neighbors':[5,10]}\n",
    "knn_gscv = GridSearchCV(knn1, param_grid, cv=7)\n",
    "knn_gscv.fit(X_train, y_train)\n",
    "probs = knn_gscv.predict_proba(X_test)\n",
    "probs = probs[:,1]\n",
    "print('AUC:{}'.format(roc_auc_score(y_test, probs.round())))\n",
    "print('Precision:{}'.format(precision_score(y_test, probs.round())))\n",
    "print('Recall:{}'.format(recall_score(y_test, probs.round())))\n",
    "print('F1 Score:{}'.format(f1_score(y_test, probs.round())))"
   ]
  },
  {
   "cell_type": "markdown",
   "metadata": {},
   "source": [
    "### SVM"
   ]
  },
  {
   "cell_type": "code",
   "execution_count": null,
   "metadata": {},
   "outputs": [],
   "source": [
    "#Baseline Model\n",
    "from sklearn.svm import SVC\n",
    "svc = SVC(kernel='linear', probability=True)\n",
    "svc.fit(X_train,y_train)\n",
    "probs = svc.predict_proba(X_test)\n",
    "probs = probs[:,1]\n",
    "print('AUC:{}'.format(roc_auc_score(y_test, probs.round())))\n",
    "print('Precision:{}'.format(precision_score(y_test, probs.round())))\n",
    "print('Recall:{}'.format(recall_score(y_test, probs.round())))\n",
    "print('F1 Score:{}'.format(f1_score(y_test, probs.round())))"
   ]
  },
  {
   "cell_type": "code",
   "execution_count": null,
   "metadata": {},
   "outputs": [],
   "source": [
    "#GridSearch for tuning using 3 CV\n",
    "from sklearn.model_selection import GridSearchCV\n",
    "svc1 = SVC(kernel='linear', probability=True)\n",
    "param_grid = {'C':[1]}\n",
    "svc_gscv = GridSearchCV(svc1, param_grid, cv=3)\n",
    "svc_gscv.fit(X_train, y_train)\n",
    "probs = svc_gscv.predict_proba(X_test)\n",
    "probs = probs[:,1]\n",
    "print('AUC:{}'.format(roc_auc_score(y_test, probs.round())))\n",
    "print('Precision:{}'.format(precision_score(y_test, probs.round())))\n",
    "print('Recall:{}'.format(recall_score(y_test, probs.round())))\n",
    "print('F1 Score:{}'.format(f1_score(y_test, probs.round())))"
   ]
  },
  {
   "cell_type": "markdown",
   "metadata": {},
   "source": [
    "### Naive Bayes"
   ]
  },
  {
   "cell_type": "code",
   "execution_count": 11,
   "metadata": {},
   "outputs": [
    {
     "name": "stdout",
     "output_type": "stream",
     "text": [
      "AUC:0.8509739966704803\n",
      "Precision:0.9870653095843935\n",
      "Recall:0.7781027998328458\n",
      "F1 Score:0.8702154507641258\n"
     ]
    }
   ],
   "source": [
    "from sklearn.naive_bayes import GaussianNB\n",
    "gnb = GaussianNB()\n",
    "gnb.fit(X_train,y_train)\n",
    "probs = gnb.predict_proba(X_test)\n",
    "probs = probs[:,1]\n",
    "print('AUC:{}'.format(roc_auc_score(y_test, probs.round())))\n",
    "print('Precision:{}'.format(precision_score(y_test, probs.round())))\n",
    "print('Recall:{}'.format(recall_score(y_test, probs.round())))\n",
    "print('F1 Score:{}'.format(f1_score(y_test, probs.round())))"
   ]
  },
  {
   "cell_type": "code",
   "execution_count": 12,
   "metadata": {},
   "outputs": [
    {
     "name": "stdout",
     "output_type": "stream",
     "text": [
      "AUC:0.8509739966704803\n",
      "Precision:0.9870653095843935\n",
      "Recall:0.7781027998328458\n",
      "F1 Score:0.8702154507641258\n"
     ]
    }
   ],
   "source": [
    "from sklearn.model_selection import GridSearchCV\n",
    "gnb1 = GaussianNB()\n",
    "param_grid = {}\n",
    "gnb_gscv = GridSearchCV(gnb1, param_grid, cv=7)\n",
    "gnb_gscv.fit(X_train, y_train)\n",
    "probs = gnb_gscv.predict_proba(X_test)\n",
    "probs = probs[:,1]\n",
    "print('AUC:{}'.format(roc_auc_score(y_test, probs.round())))\n",
    "print('Precision:{}'.format(precision_score(y_test, probs.round())))\n",
    "print('Recall:{}'.format(recall_score(y_test, probs.round())))\n",
    "print('F1 Score:{}'.format(f1_score(y_test, probs.round())))"
   ]
  },
  {
   "cell_type": "markdown",
   "metadata": {},
   "source": [
    "### Random Forest"
   ]
  },
  {
   "cell_type": "code",
   "execution_count": 13,
   "metadata": {},
   "outputs": [
    {
     "name": "stderr",
     "output_type": "stream",
     "text": [
      "C:\\Users\\AJIT\\Anaconda3\\lib\\site-packages\\sklearn\\ensemble\\forest.py:246: FutureWarning: The default value of n_estimators will change from 10 in version 0.20 to 100 in 0.22.\n",
      "  \"10 in version 0.20 to 100 in 0.22.\", FutureWarning)\n"
     ]
    },
    {
     "name": "stdout",
     "output_type": "stream",
     "text": [
      "AUC:0.9632415706860366\n",
      "Precision:0.991\n",
      "Recall:0.9938988717091517\n",
      "F1 Score:0.992447319006885\n"
     ]
    }
   ],
   "source": [
    "random.seed(100)\n",
    "from sklearn.ensemble import RandomForestClassifier\n",
    "rf = RandomForestClassifier()\n",
    "rf.fit(X_train,y_train)\n",
    "probs = rf.predict_proba(X_test)\n",
    "probs = probs[:,1]\n",
    "print('AUC:{}'.format(roc_auc_score(y_test, probs.round())))\n",
    "print('Precision:{}'.format(precision_score(y_test, probs.round())))\n",
    "print('Recall:{}'.format(recall_score(y_test, probs.round())))\n",
    "print('F1 Score:{}'.format(f1_score(y_test, probs.round())))"
   ]
  },
  {
   "cell_type": "code",
   "execution_count": 14,
   "metadata": {},
   "outputs": [
    {
     "data": {
      "text/plain": [
       "<bound method BaseEstimator.get_params of RandomForestClassifier(bootstrap=True, class_weight=None, criterion='gini',\n",
       "            max_depth=None, max_features='auto', max_leaf_nodes=None,\n",
       "            min_impurity_decrease=0.0, min_impurity_split=None,\n",
       "            min_samples_leaf=1, min_samples_split=2,\n",
       "            min_weight_fraction_leaf=0.0, n_estimators=10, n_jobs=None,\n",
       "            oob_score=False, random_state=None, verbose=0,\n",
       "            warm_start=False)>"
      ]
     },
     "execution_count": 14,
     "metadata": {},
     "output_type": "execute_result"
    }
   ],
   "source": [
    "rf.get_params"
   ]
  },
  {
   "cell_type": "code",
   "execution_count": 15,
   "metadata": {},
   "outputs": [
    {
     "name": "stdout",
     "output_type": "stream",
     "text": [
      "AUC:0.9603960104194872\n",
      "Precision:0.9899518352433151\n",
      "Recall:0.996322607605516\n",
      "F1 Score:0.9931270046236513\n"
     ]
    }
   ],
   "source": [
    "from sklearn.model_selection import GridSearchCV\n",
    "rf1 = RandomForestClassifier()\n",
    "param_grid = {'n_estimators':[100,500,1000]}\n",
    "rf_gscv = GridSearchCV(rf1, param_grid, cv=3)\n",
    "rf_gscv.fit(X_train, y_train)\n",
    "probs = rf_gscv.predict_proba(X_test)\n",
    "probs = probs[:,1]\n",
    "print('AUC:{}'.format(roc_auc_score(y_test, probs.round())))\n",
    "print('Precision:{}'.format(precision_score(y_test, probs.round())))\n",
    "print('Recall:{}'.format(recall_score(y_test, probs.round())))\n",
    "print('F1 Score:{}'.format(f1_score(y_test, probs.round())))"
   ]
  },
  {
   "cell_type": "markdown",
   "metadata": {},
   "source": [
    "### Artificial Neural Network"
   ]
  },
  {
   "cell_type": "code",
   "execution_count": 8,
   "metadata": {},
   "outputs": [
    {
     "name": "stderr",
     "output_type": "stream",
     "text": [
      "C:\\Users\\AJIT\\Anaconda3\\lib\\site-packages\\h5py\\__init__.py:36: FutureWarning: Conversion of the second argument of issubdtype from `float` to `np.floating` is deprecated. In future, it will be treated as `np.float64 == np.dtype(float).type`.\n",
      "  from ._conv import register_converters as _register_converters\n",
      "Using TensorFlow backend.\n"
     ]
    }
   ],
   "source": [
    "import keras\n",
    "from keras.models import Sequential\n",
    "from keras.layers import Dense"
   ]
  },
  {
   "cell_type": "code",
   "execution_count": 10,
   "metadata": {},
   "outputs": [],
   "source": [
    "classifier = Sequential()"
   ]
  },
  {
   "cell_type": "code",
   "execution_count": 11,
   "metadata": {},
   "outputs": [
    {
     "data": {
      "text/plain": [
       "(54267, 23)"
      ]
     },
     "execution_count": 11,
     "metadata": {},
     "output_type": "execute_result"
    }
   ],
   "source": [
    "X_train.shape"
   ]
  },
  {
   "cell_type": "code",
   "execution_count": 12,
   "metadata": {},
   "outputs": [],
   "source": [
    "classifier.add(Dense(units = 12, kernel_initializer = 'uniform', activation = 'relu', input_dim = 23))"
   ]
  },
  {
   "cell_type": "code",
   "execution_count": 13,
   "metadata": {},
   "outputs": [],
   "source": [
    "classifier.add(Dense(units = 12, kernel_initializer = 'uniform', activation = 'relu'))"
   ]
  },
  {
   "cell_type": "code",
   "execution_count": 14,
   "metadata": {},
   "outputs": [],
   "source": [
    "classifier.add(Dense(units = 1, kernel_initializer = 'uniform', activation = 'sigmoid'))"
   ]
  },
  {
   "cell_type": "code",
   "execution_count": 15,
   "metadata": {},
   "outputs": [],
   "source": [
    "classifier.compile(optimizer = 'adam', loss = 'binary_crossentropy', metrics = ['accuracy'])"
   ]
  },
  {
   "cell_type": "code",
   "execution_count": 17,
   "metadata": {},
   "outputs": [
    {
     "name": "stdout",
     "output_type": "stream",
     "text": [
      "Epoch 1/30\n",
      "54267/54267 [==============================] - 8s 140us/step - loss: 1.8591 - acc: 0.8813\n",
      "Epoch 2/30\n",
      "54267/54267 [==============================] - 8s 139us/step - loss: 1.8596 - acc: 0.8813\n",
      "Epoch 3/30\n",
      "54267/54267 [==============================] - 8s 142us/step - loss: 1.8522 - acc: 0.8812\n",
      "Epoch 4/30\n",
      "54267/54267 [==============================] - 8s 139us/step - loss: 1.8650 - acc: 0.8813\n",
      "Epoch 5/30\n",
      "54267/54267 [==============================] - 8s 143us/step - loss: 1.7702 - acc: 0.8813\n",
      "Epoch 6/30\n",
      "54267/54267 [==============================] - 8s 141us/step - loss: 1.8412 - acc: 0.8813\n",
      "Epoch 7/30\n",
      "54267/54267 [==============================] - 8s 144us/step - loss: 1.8650 - acc: 0.8813\n",
      "Epoch 8/30\n",
      "54267/54267 [==============================] - 8s 142us/step - loss: 1.8652 - acc: 0.8813\n",
      "Epoch 9/30\n",
      "54267/54267 [==============================] - 8s 142us/step - loss: 2.0011 - acc: 0.8729\n",
      "Epoch 10/30\n",
      "54267/54267 [==============================] - 8s 141us/step - loss: 1.9154 - acc: 0.8785\n",
      "Epoch 11/30\n",
      "54267/54267 [==============================] - 8s 143us/step - loss: 1.8665 - acc: 0.8814\n",
      "Epoch 12/30\n",
      "54267/54267 [==============================] - 8s 142us/step - loss: 1.8655 - acc: 0.8813\n",
      "Epoch 13/30\n",
      "54267/54267 [==============================] - 8s 144us/step - loss: 1.8639 - acc: 0.8816\n",
      "Epoch 14/30\n",
      "54267/54267 [==============================] - 8s 143us/step - loss: 1.8649 - acc: 0.8816\n",
      "Epoch 15/30\n",
      "54267/54267 [==============================] - 8s 148us/step - loss: 1.8649 - acc: 0.8815\n",
      "Epoch 16/30\n",
      "54267/54267 [==============================] - 8s 155us/step - loss: 1.8642 - acc: 0.8816\n",
      "Epoch 17/30\n",
      "54267/54267 [==============================] - 8s 150us/step - loss: 1.8644 - acc: 0.8816\n",
      "Epoch 18/30\n",
      "54267/54267 [==============================] - 8s 153us/step - loss: 1.8642 - acc: 0.8815\n",
      "Epoch 19/30\n",
      "54267/54267 [==============================] - 8s 144us/step - loss: 1.8645 - acc: 0.8816\n",
      "Epoch 20/30\n",
      "54267/54267 [==============================] - 8s 145us/step - loss: 1.8526 - acc: 0.8798\n",
      "Epoch 21/30\n",
      "54267/54267 [==============================] - 8s 155us/step - loss: 1.8064 - acc: 0.8764\n",
      "Epoch 22/30\n",
      "54267/54267 [==============================] - 8s 148us/step - loss: 1.8906 - acc: 0.8797\n",
      "Epoch 23/30\n",
      "54267/54267 [==============================] - 8s 146us/step - loss: 1.8665 - acc: 0.8812\n",
      "Epoch 24/30\n",
      "54267/54267 [==============================] - 8s 145us/step - loss: 1.8648 - acc: 0.8813\n",
      "Epoch 25/30\n",
      "54267/54267 [==============================] - 8s 145us/step - loss: 1.8578 - acc: 0.8808\n",
      "Epoch 26/30\n",
      "54267/54267 [==============================] - 8s 145us/step - loss: 1.8643 - acc: 0.8814\n",
      "Epoch 27/30\n",
      "54267/54267 [==============================] - 9s 157us/step - loss: 1.7513 - acc: 0.8773\n",
      "Epoch 28/30\n",
      "54267/54267 [==============================] - 9s 164us/step - loss: 1.8641 - acc: 0.8813\n",
      "Epoch 29/30\n",
      "54267/54267 [==============================] - 8s 149us/step - loss: 1.8644 - acc: 0.8813\n",
      "Epoch 30/30\n",
      "54267/54267 [==============================] - 9s 159us/step - loss: 1.3062 - acc: 0.8799\n"
     ]
    },
    {
     "data": {
      "text/plain": [
       "<keras.callbacks.History at 0x1ade9735908>"
      ]
     },
     "execution_count": 17,
     "metadata": {},
     "output_type": "execute_result"
    }
   ],
   "source": [
    "classifier.fit(X_train, y_train, batch_size = 10, epochs = 30)"
   ]
  },
  {
   "cell_type": "code",
   "execution_count": 18,
   "metadata": {},
   "outputs": [],
   "source": [
    "y_pred = classifier.predict(X_test)\n",
    "y_pred = (y_pred > 0.5)"
   ]
  },
  {
   "cell_type": "code",
   "execution_count": 20,
   "metadata": {},
   "outputs": [],
   "source": [
    "from sklearn.metrics import confusion_matrix\n",
    "cm = confusion_matrix(y_test, y_pred)"
   ]
  },
  {
   "cell_type": "code",
   "execution_count": 21,
   "metadata": {},
   "outputs": [
    {
     "data": {
      "text/plain": [
       "array([[    0,  1602],\n",
       "       [    0, 11965]], dtype=int64)"
      ]
     },
     "execution_count": 21,
     "metadata": {},
     "output_type": "execute_result"
    }
   ],
   "source": [
    "cm"
   ]
  },
  {
   "cell_type": "code",
   "execution_count": null,
   "metadata": {},
   "outputs": [],
   "source": []
  }
 ],
 "metadata": {
  "kernelspec": {
   "display_name": "Python 3",
   "language": "python",
   "name": "python3"
  },
  "language_info": {
   "codemirror_mode": {
    "name": "ipython",
    "version": 3
   },
   "file_extension": ".py",
   "mimetype": "text/x-python",
   "name": "python",
   "nbconvert_exporter": "python",
   "pygments_lexer": "ipython3",
   "version": "3.6.5"
  }
 },
 "nbformat": 4,
 "nbformat_minor": 2
}
