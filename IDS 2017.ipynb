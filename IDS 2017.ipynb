{
 "cells": [
  {
   "cell_type": "markdown",
   "metadata": {},
   "source": [
    "# IDS 2017"
   ]
  },
  {
   "cell_type": "markdown",
   "metadata": {},
   "source": [
    "## All 8 datasets are highly imbalanced\n",
    "## For now only Thursday Morning dataset has been used."
   ]
  },
  {
   "cell_type": "markdown",
   "metadata": {},
   "source": [
    "#### Libraries"
   ]
  },
  {
   "cell_type": "code",
   "execution_count": 1,
   "metadata": {},
   "outputs": [],
   "source": [
    "import pandas as pd\n",
    "import numpy as np\n",
    "from sklearn.metrics import f1_score, precision_score, recall_score,roc_auc_score"
   ]
  },
  {
   "cell_type": "markdown",
   "metadata": {},
   "source": [
    "#### Importing Datasets"
   ]
  },
  {
   "cell_type": "code",
   "execution_count": 2,
   "metadata": {},
   "outputs": [
    {
     "name": "stderr",
     "output_type": "stream",
     "text": [
      "C:\\Users\\AJIT\\Anaconda3\\lib\\site-packages\\IPython\\core\\interactiveshell.py:2785: DtypeWarning: Columns (14) have mixed types. Specify dtype option on import or set low_memory=False.\n",
      "  interactivity=interactivity, compiler=compiler, result=result)\n",
      "C:\\Users\\AJIT\\Anaconda3\\lib\\site-packages\\IPython\\core\\interactiveshell.py:2785: DtypeWarning: Columns (14,15) have mixed types. Specify dtype option on import or set low_memory=False.\n",
      "  interactivity=interactivity, compiler=compiler, result=result)\n"
     ]
    }
   ],
   "source": [
    "mon=pd.read_csv(\"C:\\\\Users\\\\AJIT\\\\Desktop\\\\Data science\\\\RP\\\\IDS 2017\\\\Monday-WorkingHours.pcap_ISCX.csv\")\n",
    "tue=pd.read_csv(\"C:\\\\Users\\\\AJIT\\\\Desktop\\\\Data science\\\\RP\\\\IDS 2017\\\\Tuesday-WorkingHours.pcap_ISCX.csv\")\n",
    "wed=pd.read_csv(\"C:\\\\Users\\\\AJIT\\\\Desktop\\\\Data science\\\\RP\\\\IDS 2017\\\\Wednesday-workingHours.pcap_ISCX.csv\")\n",
    "thu_noon=pd.read_csv(\"C:\\\\Users\\\\AJIT\\\\Desktop\\\\Data science\\\\RP\\\\IDS 2017\\\\Thursday-WorkingHours-Afternoon-Infilteration.pcap_ISCX.csv\")\n",
    "thu_mor=pd.read_csv(\"C:\\\\Users\\\\AJIT\\\\Desktop\\\\Data science\\\\RP\\\\IDS 2017\\\\Thursday-WorkingHours-Morning-WebAttacks.pcap_ISCX.csv\")\n",
    "fri_mor=pd.read_csv(\"C:\\\\Users\\\\AJIT\\\\Desktop\\\\Data science\\\\RP\\\\IDS 2017\\\\Friday-WorkingHours-Morning.pcap_ISCX.csv\")\n",
    "fri_noon_dos=pd.read_csv(\"C:\\\\Users\\\\AJIT\\\\Desktop\\\\Data science\\\\RP\\\\IDS 2017\\\\Friday-WorkingHours-Afternoon-DDospcap_ISCX.csv\")\n",
    "fri_noon_por=pd.read_csv(\"C:\\\\Users\\\\AJIT\\\\Desktop\\\\Data science\\\\RP\\\\IDS 2017\\\\Friday-WorkingHours-Afternoon-PortScan.pcap_ISCX.csv\")"
   ]
  },
  {
   "cell_type": "code",
   "execution_count": 3,
   "metadata": {},
   "outputs": [
    {
     "data": {
      "text/html": [
       "<div>\n",
       "<style scoped>\n",
       "    .dataframe tbody tr th:only-of-type {\n",
       "        vertical-align: middle;\n",
       "    }\n",
       "\n",
       "    .dataframe tbody tr th {\n",
       "        vertical-align: top;\n",
       "    }\n",
       "\n",
       "    .dataframe thead th {\n",
       "        text-align: right;\n",
       "    }\n",
       "</style>\n",
       "<table border=\"1\" class=\"dataframe\">\n",
       "  <thead>\n",
       "    <tr style=\"text-align: right;\">\n",
       "      <th></th>\n",
       "      <th>Destination Port</th>\n",
       "      <th>Flow Duration</th>\n",
       "      <th>Total Fwd Packets</th>\n",
       "      <th>Total Backward Packets</th>\n",
       "      <th>Total Length of Fwd Packets</th>\n",
       "      <th>Total Length of Bwd Packets</th>\n",
       "      <th>Fwd Packet Length Max</th>\n",
       "      <th>Fwd Packet Length Min</th>\n",
       "      <th>Fwd Packet Length Mean</th>\n",
       "      <th>Fwd Packet Length Std</th>\n",
       "      <th>...</th>\n",
       "      <th>min_seg_size_forward</th>\n",
       "      <th>Active Mean</th>\n",
       "      <th>Active Std</th>\n",
       "      <th>Active Max</th>\n",
       "      <th>Active Min</th>\n",
       "      <th>Idle Mean</th>\n",
       "      <th>Idle Std</th>\n",
       "      <th>Idle Max</th>\n",
       "      <th>Idle Min</th>\n",
       "      <th>Label</th>\n",
       "    </tr>\n",
       "  </thead>\n",
       "  <tbody>\n",
       "    <tr>\n",
       "      <th>0</th>\n",
       "      <td>88</td>\n",
       "      <td>640</td>\n",
       "      <td>7</td>\n",
       "      <td>4</td>\n",
       "      <td>440</td>\n",
       "      <td>358</td>\n",
       "      <td>220</td>\n",
       "      <td>0</td>\n",
       "      <td>62.857143</td>\n",
       "      <td>107.349008</td>\n",
       "      <td>...</td>\n",
       "      <td>20</td>\n",
       "      <td>0.0</td>\n",
       "      <td>0.0</td>\n",
       "      <td>0</td>\n",
       "      <td>0</td>\n",
       "      <td>0.0</td>\n",
       "      <td>0.0</td>\n",
       "      <td>0</td>\n",
       "      <td>0</td>\n",
       "      <td>BENIGN</td>\n",
       "    </tr>\n",
       "    <tr>\n",
       "      <th>1</th>\n",
       "      <td>88</td>\n",
       "      <td>900</td>\n",
       "      <td>9</td>\n",
       "      <td>4</td>\n",
       "      <td>600</td>\n",
       "      <td>2944</td>\n",
       "      <td>300</td>\n",
       "      <td>0</td>\n",
       "      <td>66.666667</td>\n",
       "      <td>132.287566</td>\n",
       "      <td>...</td>\n",
       "      <td>20</td>\n",
       "      <td>0.0</td>\n",
       "      <td>0.0</td>\n",
       "      <td>0</td>\n",
       "      <td>0</td>\n",
       "      <td>0.0</td>\n",
       "      <td>0.0</td>\n",
       "      <td>0</td>\n",
       "      <td>0</td>\n",
       "      <td>BENIGN</td>\n",
       "    </tr>\n",
       "    <tr>\n",
       "      <th>2</th>\n",
       "      <td>88</td>\n",
       "      <td>1205</td>\n",
       "      <td>7</td>\n",
       "      <td>4</td>\n",
       "      <td>2776</td>\n",
       "      <td>2830</td>\n",
       "      <td>1388</td>\n",
       "      <td>0</td>\n",
       "      <td>396.571429</td>\n",
       "      <td>677.274651</td>\n",
       "      <td>...</td>\n",
       "      <td>20</td>\n",
       "      <td>0.0</td>\n",
       "      <td>0.0</td>\n",
       "      <td>0</td>\n",
       "      <td>0</td>\n",
       "      <td>0.0</td>\n",
       "      <td>0.0</td>\n",
       "      <td>0</td>\n",
       "      <td>0</td>\n",
       "      <td>BENIGN</td>\n",
       "    </tr>\n",
       "    <tr>\n",
       "      <th>3</th>\n",
       "      <td>88</td>\n",
       "      <td>511</td>\n",
       "      <td>7</td>\n",
       "      <td>4</td>\n",
       "      <td>452</td>\n",
       "      <td>370</td>\n",
       "      <td>226</td>\n",
       "      <td>0</td>\n",
       "      <td>64.571429</td>\n",
       "      <td>110.276708</td>\n",
       "      <td>...</td>\n",
       "      <td>20</td>\n",
       "      <td>0.0</td>\n",
       "      <td>0.0</td>\n",
       "      <td>0</td>\n",
       "      <td>0</td>\n",
       "      <td>0.0</td>\n",
       "      <td>0.0</td>\n",
       "      <td>0</td>\n",
       "      <td>0</td>\n",
       "      <td>BENIGN</td>\n",
       "    </tr>\n",
       "    <tr>\n",
       "      <th>4</th>\n",
       "      <td>88</td>\n",
       "      <td>773</td>\n",
       "      <td>9</td>\n",
       "      <td>4</td>\n",
       "      <td>612</td>\n",
       "      <td>2944</td>\n",
       "      <td>306</td>\n",
       "      <td>0</td>\n",
       "      <td>68.000000</td>\n",
       "      <td>134.933317</td>\n",
       "      <td>...</td>\n",
       "      <td>20</td>\n",
       "      <td>0.0</td>\n",
       "      <td>0.0</td>\n",
       "      <td>0</td>\n",
       "      <td>0</td>\n",
       "      <td>0.0</td>\n",
       "      <td>0.0</td>\n",
       "      <td>0</td>\n",
       "      <td>0</td>\n",
       "      <td>BENIGN</td>\n",
       "    </tr>\n",
       "  </tbody>\n",
       "</table>\n",
       "<p>5 rows × 79 columns</p>\n",
       "</div>"
      ],
      "text/plain": [
       "    Destination Port   Flow Duration   Total Fwd Packets  \\\n",
       "0                 88             640                   7   \n",
       "1                 88             900                   9   \n",
       "2                 88            1205                   7   \n",
       "3                 88             511                   7   \n",
       "4                 88             773                   9   \n",
       "\n",
       "    Total Backward Packets  Total Length of Fwd Packets  \\\n",
       "0                        4                          440   \n",
       "1                        4                          600   \n",
       "2                        4                         2776   \n",
       "3                        4                          452   \n",
       "4                        4                          612   \n",
       "\n",
       "    Total Length of Bwd Packets   Fwd Packet Length Max  \\\n",
       "0                           358                     220   \n",
       "1                          2944                     300   \n",
       "2                          2830                    1388   \n",
       "3                           370                     226   \n",
       "4                          2944                     306   \n",
       "\n",
       "    Fwd Packet Length Min   Fwd Packet Length Mean   Fwd Packet Length Std  \\\n",
       "0                       0                62.857143              107.349008   \n",
       "1                       0                66.666667              132.287566   \n",
       "2                       0               396.571429              677.274651   \n",
       "3                       0                64.571429              110.276708   \n",
       "4                       0                68.000000              134.933317   \n",
       "\n",
       "   ...   min_seg_size_forward  Active Mean   Active Std   Active Max  \\\n",
       "0  ...                     20          0.0          0.0            0   \n",
       "1  ...                     20          0.0          0.0            0   \n",
       "2  ...                     20          0.0          0.0            0   \n",
       "3  ...                     20          0.0          0.0            0   \n",
       "4  ...                     20          0.0          0.0            0   \n",
       "\n",
       "   Active Min Idle Mean   Idle Std   Idle Max   Idle Min   Label  \n",
       "0           0       0.0        0.0          0          0  BENIGN  \n",
       "1           0       0.0        0.0          0          0  BENIGN  \n",
       "2           0       0.0        0.0          0          0  BENIGN  \n",
       "3           0       0.0        0.0          0          0  BENIGN  \n",
       "4           0       0.0        0.0          0          0  BENIGN  \n",
       "\n",
       "[5 rows x 79 columns]"
      ]
     },
     "execution_count": 3,
     "metadata": {},
     "output_type": "execute_result"
    }
   ],
   "source": [
    "tue.head()"
   ]
  },
  {
   "cell_type": "markdown",
   "metadata": {},
   "source": [
    "#### Dimension of each datasets"
   ]
  },
  {
   "cell_type": "code",
   "execution_count": 4,
   "metadata": {},
   "outputs": [
    {
     "name": "stdout",
     "output_type": "stream",
     "text": [
      "Mon: (529918, 79)\n",
      "Tue: (445909, 79)\n",
      "Wed: (692703, 79)\n",
      "Thu_noon: (288602, 79)\n",
      "Thu_mor: (170366, 79)\n",
      "Fri_mor: (191033, 79)\n",
      "Fri_noon_dos: (225745, 79)\n",
      "Fri_noon_port: (286467, 79)\n"
     ]
    }
   ],
   "source": [
    "print(\"Mon:\",mon.shape)\n",
    "print(\"Tue:\",tue.shape)\n",
    "print(\"Wed:\",wed.shape)\n",
    "print(\"Thu_noon:\",thu_noon.shape)\n",
    "print(\"Thu_mor:\",thu_mor.shape)\n",
    "print(\"Fri_mor:\",fri_mor.shape)\n",
    "print(\"Fri_noon_dos:\",fri_noon_dos.shape)\n",
    "print(\"Fri_noon_port:\",fri_noon_por.shape)"
   ]
  },
  {
   "cell_type": "markdown",
   "metadata": {},
   "source": [
    "#### Total no. of Benign and Anomalous values for each datasets"
   ]
  },
  {
   "cell_type": "code",
   "execution_count": 5,
   "metadata": {},
   "outputs": [
    {
     "name": "stdout",
     "output_type": "stream",
     "text": [
      "mon BENIGN    529918\n",
      "Name:  Label, dtype: int64\n",
      "\n",
      "tue BENIGN         432074\n",
      "FTP-Patator      7938\n",
      "SSH-Patator      5897\n",
      "Name:  Label, dtype: int64\n",
      "\n",
      "wed BENIGN              440031\n",
      "DoS Hulk            231073\n",
      "DoS GoldenEye        10293\n",
      "DoS slowloris         5796\n",
      "DoS Slowhttptest      5499\n",
      "Heartbleed              11\n",
      "Name:  Label, dtype: int64\n",
      "\n",
      "thu_mor BENIGN                        168186\n",
      "Web Attack � Brute Force        1507\n",
      "Web Attack � XSS                 652\n",
      "Web Attack � Sql Injection        21\n",
      "Name:  Label, dtype: int64\n",
      "\n",
      "thu_noon BENIGN          288566\n",
      "Infiltration        36\n",
      "Name:  Label, dtype: int64\n",
      "\n",
      "fri_mor BENIGN    189067\n",
      "Bot         1966\n",
      "Name:  Label, dtype: int64\n",
      "\n",
      "fri_noon_dos DDoS      128027\n",
      "BENIGN     97718\n",
      "Name:  Label, dtype: int64\n",
      "\n",
      "fri_noon_por PortScan    158930\n",
      "BENIGN      127537\n",
      "Name:  Label, dtype: int64\n"
     ]
    }
   ],
   "source": [
    "print(\"mon\",mon[' Label'].value_counts())\n",
    "print(\"\\ntue\",tue[' Label'].value_counts())\n",
    "print(\"\\nwed\",wed[' Label'].value_counts())\n",
    "print(\"\\nthu_mor\",thu_mor[' Label'].value_counts())\n",
    "print(\"\\nthu_noon\",thu_noon[' Label'].value_counts())\n",
    "print(\"\\nfri_mor\",fri_mor[' Label'].value_counts())\n",
    "print(\"\\nfri_noon_dos\",fri_noon_dos[' Label'].value_counts())\n",
    "print(\"\\nfri_noon_por\",fri_noon_por[' Label'].value_counts())"
   ]
  },
  {
   "cell_type": "markdown",
   "metadata": {},
   "source": [
    "#### BENIGN==0 and NON-BENIGN==1"
   ]
  },
  {
   "cell_type": "code",
   "execution_count": 6,
   "metadata": {},
   "outputs": [],
   "source": [
    "mon[' Label'] = mon[' Label'] .apply(lambda x: 0 if x=='BENIGN' else 1)\n",
    "tue[' Label'] = tue[' Label'] .apply(lambda x: 0 if x=='BENIGN' else 1)\n",
    "wed[' Label'] = wed[' Label'] .apply(lambda x: 0 if x=='BENIGN' else 1)\n",
    "thu_mor[' Label'] = thu_mor[' Label'] .apply(lambda x: 0 if x=='BENIGN' else 1)\n",
    "thu_noon[' Label'] = thu_noon[' Label'] .apply(lambda x: 0 if x=='BENIGN' else 1)\n",
    "fri_mor[' Label'] = fri_mor[' Label'] .apply(lambda x: 0 if x=='BENIGN' else 1)\n",
    "fri_noon_dos[' Label'] = fri_noon_dos[' Label'] .apply(lambda x: 0 if x=='BENIGN' else 1)\n",
    "fri_noon_por[' Label'] = fri_noon_por[' Label'] .apply(lambda x: 0 if x=='BENIGN' else 1)"
   ]
  },
  {
   "cell_type": "code",
   "execution_count": 7,
   "metadata": {},
   "outputs": [
    {
     "name": "stdout",
     "output_type": "stream",
     "text": [
      "mon 0    529918\n",
      "Name:  Label, dtype: int64\n",
      "\n",
      "tue 0    432074\n",
      "1     13835\n",
      "Name:  Label, dtype: int64\n",
      "\n",
      "wed 0    440031\n",
      "1    252672\n",
      "Name:  Label, dtype: int64\n",
      "\n",
      "thu_mor 0    168186\n",
      "1      2180\n",
      "Name:  Label, dtype: int64\n",
      "\n",
      "thu_noon 0    288566\n",
      "1        36\n",
      "Name:  Label, dtype: int64\n",
      "\n",
      "fri_mor 0    189067\n",
      "1      1966\n",
      "Name:  Label, dtype: int64\n",
      "\n",
      "fri_noon_dos 1    128027\n",
      "0     97718\n",
      "Name:  Label, dtype: int64\n",
      "\n",
      "fri_noon_por 1    158930\n",
      "0    127537\n",
      "Name:  Label, dtype: int64\n"
     ]
    }
   ],
   "source": [
    "print(\"mon\",mon[' Label'].value_counts())\n",
    "print(\"\\ntue\",tue[' Label'].value_counts())\n",
    "print(\"\\nwed\",wed[' Label'].value_counts())\n",
    "print(\"\\nthu_mor\",thu_mor[' Label'].value_counts())\n",
    "print(\"\\nthu_noon\",thu_noon[' Label'].value_counts())\n",
    "print(\"\\nfri_mor\",fri_mor[' Label'].value_counts())\n",
    "print(\"\\nfri_noon_dos\",fri_noon_dos[' Label'].value_counts())\n",
    "print(\"\\nfri_noon_por\",fri_noon_por[' Label'].value_counts())"
   ]
  },
  {
   "cell_type": "markdown",
   "metadata": {},
   "source": [
    "#### Since datasets are very large and highly imbalanced undersampling can be useful in future work."
   ]
  },
  {
   "cell_type": "code",
   "execution_count": 8,
   "metadata": {},
   "outputs": [
    {
     "data": {
      "text/plain": [
       "1    127537\n",
       "0    127537\n",
       "Name:  Label, dtype: int64"
      ]
     },
     "execution_count": 8,
     "metadata": {},
     "output_type": "execute_result"
    }
   ],
   "source": [
    "from sklearn.utils import resample\n",
    "tue_majority = tue[tue[\" Label\"]==0]\n",
    "tue_minority = tue[tue[\" Label\"]==1]\n",
    "tue_majority_downsampled = resample(tue_majority, \n",
    "                                 replace=False,    # sample without replacement\n",
    "                                 n_samples=13835,     # to match minority class\n",
    "                                 random_state=123) # reproducible results\n",
    "tue= pd.concat([tue_majority_downsampled, tue_minority])\n",
    "tue[\" Label\"].value_counts()\n",
    "\n",
    "wed_majority = wed[wed[\" Label\"]==0]\n",
    "wed_minority = wed[wed[\" Label\"]==1]\n",
    "wed_majority_downsampled = resample(wed_majority, \n",
    "                                 replace=False,    # sample without replacement\n",
    "                                 n_samples=252672,     # to match minority class\n",
    "                                 random_state=12) # reproducible results\n",
    "wed= pd.concat([wed_majority_downsampled, wed_minority])\n",
    "wed[\" Label\"].value_counts()\n",
    "\n",
    "thu_mor_majority = thu_mor[thu_mor[\" Label\"]==0]\n",
    "thu_mor_minority = thu_mor[thu_mor[\" Label\"]==1]\n",
    "thu_mor_majority_downsampled = resample(thu_mor_majority, \n",
    "                                 replace=False,    # sample without replacement\n",
    "                                 n_samples=2180,     # to match minority class\n",
    "                                 random_state=13) # reproducible results\n",
    "thu_mor= pd.concat([thu_mor_majority_downsampled, thu_mor_minority])\n",
    "thu_mor[\" Label\"].value_counts()\n",
    "\n",
    "thu_noon_majority = thu_noon[thu_noon[\" Label\"]==0]\n",
    "thu_noon_minority = thu_noon[thu_noon[\" Label\"]==1]\n",
    "thu_noon_majority_downsampled = resample(thu_noon_majority, \n",
    "                                 replace=False,    # sample without replacement\n",
    "                                 n_samples=36,     # to match minority class\n",
    "                                 random_state=14) # reproducible results\n",
    "thu_noon= pd.concat([thu_noon_majority_downsampled, thu_noon_minority])\n",
    "thu_noon[\" Label\"].value_counts()\n",
    "\n",
    "fri_mor_majority = fri_mor[fri_mor[\" Label\"]==0]\n",
    "fri_mor_minority = fri_mor[fri_mor[\" Label\"]==1]\n",
    "fri_mor_majority_downsampled = resample(fri_mor_majority, \n",
    "                                 replace=False,    # sample without replacement\n",
    "                                 n_samples=1966,     # to match minority class\n",
    "                                 random_state=15) # reproducible results\n",
    "fri_mor= pd.concat([fri_mor_majority_downsampled, fri_mor_minority])\n",
    "fri_mor[\" Label\"].value_counts()\n",
    "\n",
    "fri_noon_dos_majority = fri_noon_dos[fri_noon_dos[\" Label\"]==1]\n",
    "fri_noon_dos_minority = fri_noon_dos[fri_noon_dos[\" Label\"]==0]\n",
    "fri_noon_dos_majority_downsampled = resample(fri_noon_dos_majority, \n",
    "                                 replace=False,    # sample without replacement\n",
    "                                 n_samples=97718,     # to match minority class\n",
    "                                 random_state=16) # reproducible results\n",
    "fri_noon_dos= pd.concat([fri_noon_dos_majority_downsampled, fri_noon_dos_minority])\n",
    "fri_noon_dos[\" Label\"].value_counts()\n",
    "\n",
    "fri_noon_por_majority = fri_noon_por[fri_noon_por[\" Label\"]==1]\n",
    "fri_noon_por_minority = fri_noon_por[fri_noon_por[\" Label\"]==0]\n",
    "fri_noon_por_majority_downsampled = resample(fri_noon_por_majority, \n",
    "                                 replace=False,    # sample without replacement\n",
    "                                 n_samples=127537,     # to match minority class\n",
    "                                 random_state=18) # reproducible results\n",
    "fri_noon_por= pd.concat([fri_noon_por_majority_downsampled, fri_noon_por_minority])\n",
    "fri_noon_por[\" Label\"].value_counts()"
   ]
  },
  {
   "cell_type": "code",
   "execution_count": 9,
   "metadata": {},
   "outputs": [
    {
     "data": {
      "text/html": [
       "<div>\n",
       "<style scoped>\n",
       "    .dataframe tbody tr th:only-of-type {\n",
       "        vertical-align: middle;\n",
       "    }\n",
       "\n",
       "    .dataframe tbody tr th {\n",
       "        vertical-align: top;\n",
       "    }\n",
       "\n",
       "    .dataframe thead th {\n",
       "        text-align: right;\n",
       "    }\n",
       "</style>\n",
       "<table border=\"1\" class=\"dataframe\">\n",
       "  <thead>\n",
       "    <tr style=\"text-align: right;\">\n",
       "      <th></th>\n",
       "      <th>Destination Port</th>\n",
       "      <th>Flow Duration</th>\n",
       "      <th>Total Fwd Packets</th>\n",
       "      <th>Total Backward Packets</th>\n",
       "      <th>Total Length of Fwd Packets</th>\n",
       "      <th>Total Length of Bwd Packets</th>\n",
       "      <th>Fwd Packet Length Max</th>\n",
       "      <th>Fwd Packet Length Min</th>\n",
       "      <th>Fwd Packet Length Mean</th>\n",
       "      <th>Fwd Packet Length Std</th>\n",
       "      <th>...</th>\n",
       "      <th>min_seg_size_forward</th>\n",
       "      <th>Active Mean</th>\n",
       "      <th>Active Std</th>\n",
       "      <th>Active Max</th>\n",
       "      <th>Active Min</th>\n",
       "      <th>Idle Mean</th>\n",
       "      <th>Idle Std</th>\n",
       "      <th>Idle Max</th>\n",
       "      <th>Idle Min</th>\n",
       "      <th>Label</th>\n",
       "    </tr>\n",
       "  </thead>\n",
       "  <tbody>\n",
       "    <tr>\n",
       "      <th>386621</th>\n",
       "      <td>443</td>\n",
       "      <td>5885197</td>\n",
       "      <td>9</td>\n",
       "      <td>6</td>\n",
       "      <td>790</td>\n",
       "      <td>3685</td>\n",
       "      <td>477</td>\n",
       "      <td>0</td>\n",
       "      <td>87.777778</td>\n",
       "      <td>161.643727</td>\n",
       "      <td>...</td>\n",
       "      <td>20</td>\n",
       "      <td>467881.0</td>\n",
       "      <td>0.0000</td>\n",
       "      <td>467881</td>\n",
       "      <td>467881</td>\n",
       "      <td>5417316.0</td>\n",
       "      <td>0.00000</td>\n",
       "      <td>5417316</td>\n",
       "      <td>5417316</td>\n",
       "      <td>0</td>\n",
       "    </tr>\n",
       "    <tr>\n",
       "      <th>139190</th>\n",
       "      <td>55437</td>\n",
       "      <td>93</td>\n",
       "      <td>2</td>\n",
       "      <td>1</td>\n",
       "      <td>0</td>\n",
       "      <td>0</td>\n",
       "      <td>0</td>\n",
       "      <td>0</td>\n",
       "      <td>0.000000</td>\n",
       "      <td>0.000000</td>\n",
       "      <td>...</td>\n",
       "      <td>32</td>\n",
       "      <td>0.0</td>\n",
       "      <td>0.0000</td>\n",
       "      <td>0</td>\n",
       "      <td>0</td>\n",
       "      <td>0.0</td>\n",
       "      <td>0.00000</td>\n",
       "      <td>0</td>\n",
       "      <td>0</td>\n",
       "      <td>0</td>\n",
       "    </tr>\n",
       "    <tr>\n",
       "      <th>306594</th>\n",
       "      <td>53</td>\n",
       "      <td>224</td>\n",
       "      <td>2</td>\n",
       "      <td>2</td>\n",
       "      <td>64</td>\n",
       "      <td>158</td>\n",
       "      <td>32</td>\n",
       "      <td>32</td>\n",
       "      <td>32.000000</td>\n",
       "      <td>0.000000</td>\n",
       "      <td>...</td>\n",
       "      <td>32</td>\n",
       "      <td>0.0</td>\n",
       "      <td>0.0000</td>\n",
       "      <td>0</td>\n",
       "      <td>0</td>\n",
       "      <td>0.0</td>\n",
       "      <td>0.00000</td>\n",
       "      <td>0</td>\n",
       "      <td>0</td>\n",
       "      <td>0</td>\n",
       "    </tr>\n",
       "    <tr>\n",
       "      <th>437613</th>\n",
       "      <td>80</td>\n",
       "      <td>20519989</td>\n",
       "      <td>6</td>\n",
       "      <td>6</td>\n",
       "      <td>2986</td>\n",
       "      <td>1180</td>\n",
       "      <td>2896</td>\n",
       "      <td>0</td>\n",
       "      <td>497.666667</td>\n",
       "      <td>1175.489969</td>\n",
       "      <td>...</td>\n",
       "      <td>32</td>\n",
       "      <td>284120.0</td>\n",
       "      <td>140506.3601</td>\n",
       "      <td>383473</td>\n",
       "      <td>184767</td>\n",
       "      <td>9975874.5</td>\n",
       "      <td>29065.62424</td>\n",
       "      <td>9996427</td>\n",
       "      <td>9955322</td>\n",
       "      <td>0</td>\n",
       "    </tr>\n",
       "    <tr>\n",
       "      <th>138980</th>\n",
       "      <td>123</td>\n",
       "      <td>71771</td>\n",
       "      <td>1</td>\n",
       "      <td>1</td>\n",
       "      <td>48</td>\n",
       "      <td>48</td>\n",
       "      <td>48</td>\n",
       "      <td>48</td>\n",
       "      <td>48.000000</td>\n",
       "      <td>0.000000</td>\n",
       "      <td>...</td>\n",
       "      <td>32</td>\n",
       "      <td>0.0</td>\n",
       "      <td>0.0000</td>\n",
       "      <td>0</td>\n",
       "      <td>0</td>\n",
       "      <td>0.0</td>\n",
       "      <td>0.00000</td>\n",
       "      <td>0</td>\n",
       "      <td>0</td>\n",
       "      <td>0</td>\n",
       "    </tr>\n",
       "  </tbody>\n",
       "</table>\n",
       "<p>5 rows × 79 columns</p>\n",
       "</div>"
      ],
      "text/plain": [
       "         Destination Port   Flow Duration   Total Fwd Packets  \\\n",
       "386621                443         5885197                   9   \n",
       "139190              55437              93                   2   \n",
       "306594                 53             224                   2   \n",
       "437613                 80        20519989                   6   \n",
       "138980                123           71771                   1   \n",
       "\n",
       "         Total Backward Packets  Total Length of Fwd Packets  \\\n",
       "386621                        6                          790   \n",
       "139190                        1                            0   \n",
       "306594                        2                           64   \n",
       "437613                        6                         2986   \n",
       "138980                        1                           48   \n",
       "\n",
       "         Total Length of Bwd Packets   Fwd Packet Length Max  \\\n",
       "386621                          3685                     477   \n",
       "139190                             0                       0   \n",
       "306594                           158                      32   \n",
       "437613                          1180                    2896   \n",
       "138980                            48                      48   \n",
       "\n",
       "         Fwd Packet Length Min   Fwd Packet Length Mean  \\\n",
       "386621                       0                87.777778   \n",
       "139190                       0                 0.000000   \n",
       "306594                      32                32.000000   \n",
       "437613                       0               497.666667   \n",
       "138980                      48                48.000000   \n",
       "\n",
       "         Fwd Packet Length Std  ...   min_seg_size_forward  Active Mean  \\\n",
       "386621              161.643727  ...                     20     467881.0   \n",
       "139190                0.000000  ...                     32          0.0   \n",
       "306594                0.000000  ...                     32          0.0   \n",
       "437613             1175.489969  ...                     32     284120.0   \n",
       "138980                0.000000  ...                     32          0.0   \n",
       "\n",
       "         Active Std   Active Max  Active Min  Idle Mean     Idle Std  \\\n",
       "386621       0.0000       467881      467881  5417316.0      0.00000   \n",
       "139190       0.0000            0           0        0.0      0.00000   \n",
       "306594       0.0000            0           0        0.0      0.00000   \n",
       "437613  140506.3601       383473      184767  9975874.5  29065.62424   \n",
       "138980       0.0000            0           0        0.0      0.00000   \n",
       "\n",
       "         Idle Max   Idle Min   Label  \n",
       "386621    5417316    5417316       0  \n",
       "139190          0          0       0  \n",
       "306594          0          0       0  \n",
       "437613    9996427    9955322       0  \n",
       "138980          0          0       0  \n",
       "\n",
       "[5 rows x 79 columns]"
      ]
     },
     "execution_count": 9,
     "metadata": {},
     "output_type": "execute_result"
    }
   ],
   "source": [
    "tue.head()"
   ]
  },
  {
   "cell_type": "code",
   "execution_count": 10,
   "metadata": {},
   "outputs": [
    {
     "data": {
      "text/plain": [
       "(27670, 79)"
      ]
     },
     "execution_count": 10,
     "metadata": {},
     "output_type": "execute_result"
    }
   ],
   "source": [
    "tue.shape"
   ]
  },
  {
   "cell_type": "markdown",
   "metadata": {},
   "source": [
    "#### Categorical Features"
   ]
  },
  {
   "cell_type": "code",
   "execution_count": 11,
   "metadata": {},
   "outputs": [
    {
     "data": {
      "text/plain": [
       "['Flow Bytes/s', ' Flow Packets/s']"
      ]
     },
     "execution_count": 11,
     "metadata": {},
     "output_type": "execute_result"
    }
   ],
   "source": [
    "cat_col = [c for i, c in enumerate(tue.columns) if tue.dtypes[i] in [np.object]]\n",
    "cat_col "
   ]
  },
  {
   "cell_type": "markdown",
   "metadata": {},
   "source": [
    "#### Removing Flow Bytes/s and  Flow Packets/s"
   ]
  },
  {
   "cell_type": "code",
   "execution_count": 12,
   "metadata": {},
   "outputs": [],
   "source": [
    "thu_mor.drop('Flow Bytes/s', axis=1, inplace=True)\n",
    "thu_mor.drop(' Flow Packets/s', axis=1, inplace=True)"
   ]
  },
  {
   "cell_type": "markdown",
   "metadata": {},
   "source": [
    "#### Feature Matrix and Response variable"
   ]
  },
  {
   "cell_type": "code",
   "execution_count": 13,
   "metadata": {},
   "outputs": [],
   "source": [
    "X=thu_mor.iloc[:,0:76].values\n",
    "y=thu_mor.iloc[:,76].values"
   ]
  },
  {
   "cell_type": "code",
   "execution_count": 14,
   "metadata": {},
   "outputs": [],
   "source": [
    "from sklearn.model_selection import train_test_split\n",
    "X_train, X_test, y_train, y_test= train_test_split(X, y, test_size=0.30, random_state=1)"
   ]
  },
  {
   "cell_type": "code",
   "execution_count": 15,
   "metadata": {},
   "outputs": [],
   "source": [
    "from sklearn.preprocessing import StandardScaler\n",
    "sc = StandardScaler()\n",
    "X_train = sc.fit_transform(X_train)\n",
    "X_test = sc.transform(X_test)"
   ]
  },
  {
   "cell_type": "markdown",
   "metadata": {},
   "source": [
    "#### Since data are imbalanced ,hence Metrics like AUC,Precision ,Recall and F1 are used."
   ]
  },
  {
   "cell_type": "markdown",
   "metadata": {},
   "source": [
    "### Logistic Regression"
   ]
  },
  {
   "cell_type": "markdown",
   "metadata": {},
   "source": [
    "#### Baseline Model"
   ]
  },
  {
   "cell_type": "code",
   "execution_count": 16,
   "metadata": {},
   "outputs": [
    {
     "name": "stderr",
     "output_type": "stream",
     "text": [
      "C:\\Users\\AJIT\\Anaconda3\\lib\\site-packages\\sklearn\\linear_model\\logistic.py:433: FutureWarning: Default solver will be changed to 'lbfgs' in 0.22. Specify a solver to silence this warning.\n",
      "  FutureWarning)\n"
     ]
    },
    {
     "name": "stdout",
     "output_type": "stream",
     "text": [
      "AUC:0.9809250257769921\n",
      "Precision:0.972809667673716\n",
      "Recall:0.989247311827957\n",
      "F1 Score:0.9809596344249809\n"
     ]
    }
   ],
   "source": [
    "from sklearn.metrics import f1_score, precision_score, recall_score,roc_auc_score\n",
    "from sklearn.linear_model import LogisticRegression\n",
    "lg=LogisticRegression()\n",
    "lg.fit(X_train,y_train)\n",
    "probs = lg.predict_proba(X_test)\n",
    "probs = probs[:,1]\n",
    "print('AUC:{}'.format(roc_auc_score(y_test, probs.round())))\n",
    "print('Precision:{}'.format(precision_score(y_test, probs.round())))\n",
    "print('Recall:{}'.format(recall_score(y_test, probs.round())))\n",
    "print('F1 Score:{}'.format(f1_score(y_test, probs.round())))"
   ]
  },
  {
   "cell_type": "markdown",
   "metadata": {},
   "source": [
    "#### GridSearch for tuning using 7 CV"
   ]
  },
  {
   "cell_type": "code",
   "execution_count": 44,
   "metadata": {},
   "outputs": [
    {
     "name": "stderr",
     "output_type": "stream",
     "text": [
      "C:\\Users\\AJIT\\Anaconda3\\lib\\site-packages\\sklearn\\linear_model\\logistic.py:433: FutureWarning: Default solver will be changed to 'lbfgs' in 0.22. Specify a solver to silence this warning.\n",
      "  FutureWarning)\n",
      "C:\\Users\\AJIT\\Anaconda3\\lib\\site-packages\\sklearn\\linear_model\\logistic.py:433: FutureWarning: Default solver will be changed to 'lbfgs' in 0.22. Specify a solver to silence this warning.\n",
      "  FutureWarning)\n",
      "C:\\Users\\AJIT\\Anaconda3\\lib\\site-packages\\sklearn\\linear_model\\logistic.py:433: FutureWarning: Default solver will be changed to 'lbfgs' in 0.22. Specify a solver to silence this warning.\n",
      "  FutureWarning)\n",
      "C:\\Users\\AJIT\\Anaconda3\\lib\\site-packages\\sklearn\\linear_model\\logistic.py:433: FutureWarning: Default solver will be changed to 'lbfgs' in 0.22. Specify a solver to silence this warning.\n",
      "  FutureWarning)\n",
      "C:\\Users\\AJIT\\Anaconda3\\lib\\site-packages\\sklearn\\linear_model\\logistic.py:433: FutureWarning: Default solver will be changed to 'lbfgs' in 0.22. Specify a solver to silence this warning.\n",
      "  FutureWarning)\n",
      "C:\\Users\\AJIT\\Anaconda3\\lib\\site-packages\\sklearn\\linear_model\\logistic.py:433: FutureWarning: Default solver will be changed to 'lbfgs' in 0.22. Specify a solver to silence this warning.\n",
      "  FutureWarning)\n",
      "C:\\Users\\AJIT\\Anaconda3\\lib\\site-packages\\sklearn\\linear_model\\logistic.py:433: FutureWarning: Default solver will be changed to 'lbfgs' in 0.22. Specify a solver to silence this warning.\n",
      "  FutureWarning)\n",
      "C:\\Users\\AJIT\\Anaconda3\\lib\\site-packages\\sklearn\\linear_model\\logistic.py:433: FutureWarning: Default solver will be changed to 'lbfgs' in 0.22. Specify a solver to silence this warning.\n",
      "  FutureWarning)\n"
     ]
    },
    {
     "name": "stdout",
     "output_type": "stream",
     "text": [
      "AUC:0.9507552267895111\n",
      "Precision:0.740506329113924\n",
      "Recall:0.9055727554179567\n",
      "F1 Score:0.8147632311977716\n"
     ]
    }
   ],
   "source": [
    "from sklearn.model_selection import GridSearchCV\n",
    "lg1=LogisticRegression()\n",
    "param_grid = {'C': [1.0]}\n",
    "lg_gscv = GridSearchCV(lg1, param_grid, cv=7)\n",
    "lg_gscv.fit(X_train, y_train)\n",
    "probs = lg_gscv.predict_proba(X_test)\n",
    "probs = probs[:,1]\n",
    "print('AUC:{}'.format(roc_auc_score(y_test, probs.round())))\n",
    "print('Precision:{}'.format(precision_score(y_test, probs.round())))\n",
    "print('Recall:{}'.format(recall_score(y_test, probs.round())))\n",
    "print('F1 Score:{}'.format(f1_score(y_test, probs.round())))"
   ]
  },
  {
   "cell_type": "markdown",
   "metadata": {},
   "source": [
    "### KNN"
   ]
  },
  {
   "cell_type": "markdown",
   "metadata": {},
   "source": [
    "#### Baseline Model"
   ]
  },
  {
   "cell_type": "code",
   "execution_count": 13,
   "metadata": {},
   "outputs": [
    {
     "name": "stdout",
     "output_type": "stream",
     "text": [
      "AUC:0.9967554039688165\n",
      "Precision:0.9771689497716894\n",
      "Recall:0.9938080495356038\n",
      "F1 Score:0.985418265541059\n"
     ]
    }
   ],
   "source": [
    "from sklearn.neighbors import KNeighborsClassifier\n",
    "knn = KNeighborsClassifier()\n",
    "knn.fit(X_train,y_train)\n",
    "probs = knn.predict_proba(X_test)\n",
    "probs = probs[:,1]\n",
    "print('AUC:{}'.format(roc_auc_score(y_test, probs.round())))\n",
    "print('Precision:{}'.format(precision_score(y_test, probs.round())))\n",
    "print('Recall:{}'.format(recall_score(y_test, probs.round())))\n",
    "print('F1 Score:{}'.format(f1_score(y_test, probs.round())))"
   ]
  },
  {
   "cell_type": "markdown",
   "metadata": {},
   "source": [
    "#### GridSearch for tuning using 3 CV"
   ]
  },
  {
   "cell_type": "code",
   "execution_count": 14,
   "metadata": {},
   "outputs": [
    {
     "name": "stdout",
     "output_type": "stream",
     "text": [
      "AUC:0.9967554039688165\n",
      "Precision:0.9771689497716894\n",
      "Recall:0.9938080495356038\n",
      "F1 Score:0.985418265541059\n"
     ]
    }
   ],
   "source": [
    "from sklearn.model_selection import GridSearchCV\n",
    "knn1 = KNeighborsClassifier()\n",
    "param_grid = {'n_neighbors':[5,10]}\n",
    "knn_gscv = GridSearchCV(knn1, param_grid, cv=3)\n",
    "knn_gscv.fit(X_train, y_train)\n",
    "probs = knn_gscv.predict_proba(X_test)\n",
    "probs = probs[:,1]\n",
    "print('AUC:{}'.format(roc_auc_score(y_test, probs.round())))\n",
    "print('Precision:{}'.format(precision_score(y_test, probs.round())))\n",
    "print('Recall:{}'.format(recall_score(y_test, probs.round())))\n",
    "print('F1 Score:{}'.format(f1_score(y_test, probs.round())))"
   ]
  },
  {
   "cell_type": "markdown",
   "metadata": {},
   "source": [
    "### SVM"
   ]
  },
  {
   "cell_type": "markdown",
   "metadata": {},
   "source": [
    "#### Baseline Model"
   ]
  },
  {
   "cell_type": "code",
   "execution_count": 19,
   "metadata": {},
   "outputs": [
    {
     "name": "stdout",
     "output_type": "stream",
     "text": [
      "AUC:0.9577806193815509\n",
      "Precision:0.7490542244640606\n",
      "Recall:0.9195046439628483\n",
      "F1 Score:0.8255733148019457\n"
     ]
    }
   ],
   "source": [
    "from sklearn.svm import SVC\n",
    "svc = SVC(kernel='linear', probability=True)\n",
    "svc.fit(X_train,y_train)\n",
    "probs = svc.predict_proba(X_test)\n",
    "probs = probs[:,1]\n",
    "print('AUC:{}'.format(roc_auc_score(y_test, probs.round())))\n",
    "print('Precision:{}'.format(precision_score(y_test, probs.round())))\n",
    "print('Recall:{}'.format(recall_score(y_test, probs.round())))\n",
    "print('F1 Score:{}'.format(f1_score(y_test, probs.round())))"
   ]
  },
  {
   "cell_type": "markdown",
   "metadata": {},
   "source": [
    "#### GridSearch for tuning using 3 CV"
   ]
  },
  {
   "cell_type": "code",
   "execution_count": 21,
   "metadata": {},
   "outputs": [
    {
     "name": "stdout",
     "output_type": "stream",
     "text": [
      "AUC:0.9578004354880824\n",
      "Precision:0.7509481668773704\n",
      "Recall:0.9195046439628483\n",
      "F1 Score:0.826722338204593\n"
     ]
    }
   ],
   "source": [
    "from sklearn.model_selection import GridSearchCV\n",
    "svc1 = SVC(kernel='linear', probability=True)\n",
    "param_grid = {'C':[1]}\n",
    "svc_gscv = GridSearchCV(svc1, param_grid, cv=3)\n",
    "svc_gscv.fit(X_train, y_train)\n",
    "probs = svc_gscv.predict_proba(X_test)\n",
    "probs = probs[:,1]\n",
    "print('AUC:{}'.format(roc_auc_score(y_test, probs.round())))\n",
    "print('Precision:{}'.format(precision_score(y_test, probs.round())))\n",
    "print('Recall:{}'.format(recall_score(y_test, probs.round())))\n",
    "print('F1 Score:{}'.format(f1_score(y_test, probs.round())))"
   ]
  },
  {
   "cell_type": "markdown",
   "metadata": {},
   "source": [
    "### Naive Bayes"
   ]
  },
  {
   "cell_type": "code",
   "execution_count": 16,
   "metadata": {},
   "outputs": [
    {
     "name": "stdout",
     "output_type": "stream",
     "text": [
      "AUC:0.9920368393076952\n",
      "Precision:0.6564102564102564\n",
      "Recall:0.9907120743034056\n",
      "F1 Score:0.7896360271437385\n"
     ]
    }
   ],
   "source": [
    "from sklearn.naive_bayes import GaussianNB\n",
    "gnb = GaussianNB()\n",
    "gnb.fit(X_train,y_train)\n",
    "probs = gnb.predict_proba(X_test)\n",
    "probs = probs[:,1]\n",
    "print('AUC:{}'.format(roc_auc_score(y_test, probs.round())))\n",
    "print('Precision:{}'.format(precision_score(y_test, probs.round())))\n",
    "print('Recall:{}'.format(recall_score(y_test, probs.round())))\n",
    "print('F1 Score:{}'.format(f1_score(y_test, probs.round())))"
   ]
  },
  {
   "cell_type": "code",
   "execution_count": 17,
   "metadata": {},
   "outputs": [
    {
     "name": "stdout",
     "output_type": "stream",
     "text": [
      "AUC:0.9920368393076952\n",
      "Precision:0.6564102564102564\n",
      "Recall:0.9907120743034056\n",
      "F1 Score:0.7896360271437385\n"
     ]
    }
   ],
   "source": [
    "from sklearn.model_selection import GridSearchCV\n",
    "gnb1 = GaussianNB()\n",
    "param_grid = {}\n",
    "gnb_gscv = GridSearchCV(gnb1, param_grid, cv=3)\n",
    "gnb_gscv.fit(X_train, y_train)\n",
    "probs = gnb_gscv.predict_proba(X_test)\n",
    "probs = probs[:,1]\n",
    "print('AUC:{}'.format(roc_auc_score(y_test, probs.round())))\n",
    "print('Precision:{}'.format(precision_score(y_test, probs.round())))\n",
    "print('Recall:{}'.format(recall_score(y_test, probs.round())))\n",
    "print('F1 Score:{}'.format(f1_score(y_test, probs.round())))"
   ]
  },
  {
   "cell_type": "markdown",
   "metadata": {},
   "source": [
    "### Neural Network"
   ]
  },
  {
   "cell_type": "markdown",
   "metadata": {},
   "source": [
    "#### Baseline Model"
   ]
  },
  {
   "cell_type": "code",
   "execution_count": 22,
   "metadata": {},
   "outputs": [
    {
     "name": "stdout",
     "output_type": "stream",
     "text": [
      "AUC:0.9909819230482301\n",
      "Precision:0.8313725490196079\n",
      "Recall:0.9845201238390093\n",
      "F1 Score:0.90148830616584\n"
     ]
    }
   ],
   "source": [
    "from sklearn.neural_network import MLPClassifier\n",
    "clf = MLPClassifier(solver='lbfgs', alpha=1e-5,hidden_layer_sizes=(60,60), random_state=1)\n",
    "clf.fit(X_train,y_train)\n",
    "probs = clf.predict_proba(X_test)\n",
    "probs = probs[:,1]\n",
    "print('AUC:{}'.format(roc_auc_score(y_test, probs.round())))\n",
    "print('Precision:{}'.format(precision_score(y_test, probs.round())))\n",
    "print('Recall:{}'.format(recall_score(y_test, probs.round())))\n",
    "print('F1 Score:{}'.format(f1_score(y_test, probs.round())))"
   ]
  },
  {
   "cell_type": "code",
   "execution_count": null,
   "metadata": {},
   "outputs": [],
   "source": []
  }
 ],
 "metadata": {
  "kernelspec": {
   "display_name": "Python 3",
   "language": "python",
   "name": "python3"
  },
  "language_info": {
   "codemirror_mode": {
    "name": "ipython",
    "version": 3
   },
   "file_extension": ".py",
   "mimetype": "text/x-python",
   "name": "python",
   "nbconvert_exporter": "python",
   "pygments_lexer": "ipython3",
   "version": "3.6.5"
  }
 },
 "nbformat": 4,
 "nbformat_minor": 2
}
